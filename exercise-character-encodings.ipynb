{
 "cells": [
  {
   "cell_type": "markdown",
   "id": "7f2c0e7f",
   "metadata": {
    "papermill": {
     "duration": 0.019482,
     "end_time": "2022-04-27T06:37:39.166417",
     "exception": false,
     "start_time": "2022-04-27T06:37:39.146935",
     "status": "completed"
    },
    "tags": []
   },
   "source": [
    "**This notebook is an exercise in the [Data Cleaning](https://www.kaggle.com/learn/data-cleaning) course.  You can reference the tutorial at [this link](https://www.kaggle.com/alexisbcook/character-encodings).**\n",
    "\n",
    "---\n"
   ]
  },
  {
   "cell_type": "markdown",
   "id": "4dacb547",
   "metadata": {
    "papermill": {
     "duration": 0.01749,
     "end_time": "2022-04-27T06:37:39.201411",
     "exception": false,
     "start_time": "2022-04-27T06:37:39.183921",
     "status": "completed"
    },
    "tags": []
   },
   "source": [
    "In this exercise, you'll apply what you learned in the **Character encodings** tutorial.\n",
    "\n",
    "# Setup\n",
    "\n",
    "The questions below will give you feedback on your work. Run the following cell to set up the feedback system."
   ]
  },
  {
   "cell_type": "code",
   "execution_count": 1,
   "id": "63f46f6b",
   "metadata": {
    "execution": {
     "iopub.execute_input": "2022-04-27T06:37:39.239211Z",
     "iopub.status.busy": "2022-04-27T06:37:39.238341Z",
     "iopub.status.idle": "2022-04-27T06:37:39.336582Z",
     "shell.execute_reply": "2022-04-27T06:37:39.335453Z"
    },
    "papermill": {
     "duration": 0.120338,
     "end_time": "2022-04-27T06:37:39.339377",
     "exception": false,
     "start_time": "2022-04-27T06:37:39.219039",
     "status": "completed"
    },
    "tags": []
   },
   "outputs": [
    {
     "name": "stdout",
     "output_type": "stream",
     "text": [
      "Setup Complete\n"
     ]
    }
   ],
   "source": [
    "from learntools.core import binder\n",
    "binder.bind(globals())\n",
    "from learntools.data_cleaning.ex4 import *\n",
    "print(\"Setup Complete\")"
   ]
  },
  {
   "cell_type": "markdown",
   "id": "5828871c",
   "metadata": {
    "papermill": {
     "duration": 0.017171,
     "end_time": "2022-04-27T06:37:39.375024",
     "exception": false,
     "start_time": "2022-04-27T06:37:39.357853",
     "status": "completed"
    },
    "tags": []
   },
   "source": [
    "# Get our environment set up\n",
    "\n",
    "The first thing we'll need to do is load in the libraries we'll be using."
   ]
  },
  {
   "cell_type": "code",
   "execution_count": 2,
   "id": "6074f4ec",
   "metadata": {
    "execution": {
     "iopub.execute_input": "2022-04-27T06:37:39.412123Z",
     "iopub.status.busy": "2022-04-27T06:37:39.411523Z",
     "iopub.status.idle": "2022-04-27T06:37:39.415699Z",
     "shell.execute_reply": "2022-04-27T06:37:39.415073Z"
    },
    "papermill": {
     "duration": 0.025155,
     "end_time": "2022-04-27T06:37:39.417779",
     "exception": false,
     "start_time": "2022-04-27T06:37:39.392624",
     "status": "completed"
    },
    "tags": []
   },
   "outputs": [],
   "source": [
    "# modules we'll use\n",
    "import pandas as pd\n",
    "import numpy as np\n",
    "\n",
    "# helpful character encoding module\n",
    "import chardet\n",
    "\n",
    "# set seed for reproducibility\n",
    "np.random.seed(0)"
   ]
  },
  {
   "cell_type": "markdown",
   "id": "07288dbf",
   "metadata": {
    "papermill": {
     "duration": 0.017979,
     "end_time": "2022-04-27T06:37:39.453789",
     "exception": false,
     "start_time": "2022-04-27T06:37:39.435810",
     "status": "completed"
    },
    "tags": []
   },
   "source": [
    "# 1) What are encodings?\n",
    "\n",
    "You're working with a dataset composed of bytes.  Run the code cell below to print a sample entry."
   ]
  },
  {
   "cell_type": "code",
   "execution_count": 3,
   "id": "8a8e7809",
   "metadata": {
    "execution": {
     "iopub.execute_input": "2022-04-27T06:37:39.491753Z",
     "iopub.status.busy": "2022-04-27T06:37:39.491441Z",
     "iopub.status.idle": "2022-04-27T06:37:39.496524Z",
     "shell.execute_reply": "2022-04-27T06:37:39.495940Z"
    },
    "papermill": {
     "duration": 0.026598,
     "end_time": "2022-04-27T06:37:39.498738",
     "exception": false,
     "start_time": "2022-04-27T06:37:39.472140",
     "status": "completed"
    },
    "tags": []
   },
   "outputs": [
    {
     "name": "stdout",
     "output_type": "stream",
     "text": [
      "b'\\xa7A\\xa6n'\n",
      "data type: <class 'bytes'>\n"
     ]
    }
   ],
   "source": [
    "sample_entry = b'\\xa7A\\xa6n'\n",
    "print(sample_entry)\n",
    "print('data type:', type(sample_entry))"
   ]
  },
  {
   "cell_type": "markdown",
   "id": "e319a126",
   "metadata": {
    "papermill": {
     "duration": 0.017157,
     "end_time": "2022-04-27T06:37:39.533756",
     "exception": false,
     "start_time": "2022-04-27T06:37:39.516599",
     "status": "completed"
    },
    "tags": []
   },
   "source": [
    "You notice that it doesn't use the standard UTF-8 encoding. \n",
    "\n",
    "Use the next code cell to create a variable `new_entry` that changes the encoding from `\"big5-tw\"` to `\"utf-8\"`.  `new_entry` should have the bytes datatype."
   ]
  },
  {
   "cell_type": "code",
   "execution_count": 4,
   "id": "0e74e4a6",
   "metadata": {
    "execution": {
     "iopub.execute_input": "2022-04-27T06:37:39.570725Z",
     "iopub.status.busy": "2022-04-27T06:37:39.570318Z",
     "iopub.status.idle": "2022-04-27T06:37:39.578897Z",
     "shell.execute_reply": "2022-04-27T06:37:39.578383Z"
    },
    "papermill": {
     "duration": 0.030015,
     "end_time": "2022-04-27T06:37:39.581377",
     "exception": false,
     "start_time": "2022-04-27T06:37:39.551362",
     "status": "completed"
    },
    "tags": []
   },
   "outputs": [
    {
     "data": {
      "application/javascript": [
       "parent.postMessage({\"jupyterEvent\": \"custom.exercise_interaction\", \"data\": {\"outcomeType\": 1, \"valueTowardsCompletion\": 0.3333333333333333, \"interactionType\": 1, \"questionType\": 1, \"questionId\": \"1_EncodingsIntro\", \"learnToolsVersion\": \"0.3.4\", \"failureMessage\": \"\", \"exceptionClass\": \"\", \"trace\": \"\"}}, \"*\")"
      ],
      "text/plain": [
       "<IPython.core.display.Javascript object>"
      ]
     },
     "metadata": {},
     "output_type": "display_data"
    },
    {
     "data": {
      "text/markdown": [
       "<span style=\"color:#33cc33\">Correct</span>"
      ],
      "text/plain": [
       "Correct"
      ]
     },
     "metadata": {},
     "output_type": "display_data"
    }
   ],
   "source": [
    "\n",
    "before = sample_entry.decode(\"big5-tw\")\n",
    "new_entry = before.encode()\n",
    "\n",
    "# Check your answer\n",
    "q1.check()"
   ]
  },
  {
   "cell_type": "code",
   "execution_count": 5,
   "id": "288d2277",
   "metadata": {
    "execution": {
     "iopub.execute_input": "2022-04-27T06:37:39.620943Z",
     "iopub.status.busy": "2022-04-27T06:37:39.620532Z",
     "iopub.status.idle": "2022-04-27T06:37:39.623286Z",
     "shell.execute_reply": "2022-04-27T06:37:39.622734Z"
    },
    "papermill": {
     "duration": 0.024865,
     "end_time": "2022-04-27T06:37:39.625227",
     "exception": false,
     "start_time": "2022-04-27T06:37:39.600362",
     "status": "completed"
    },
    "tags": []
   },
   "outputs": [],
   "source": [
    "# Lines below will give you a hint or solution code\n",
    "#q1.hint()\n",
    "#q1.solution()"
   ]
  },
  {
   "cell_type": "markdown",
   "id": "a5807267",
   "metadata": {
    "papermill": {
     "duration": 0.01853,
     "end_time": "2022-04-27T06:37:39.663473",
     "exception": false,
     "start_time": "2022-04-27T06:37:39.644943",
     "status": "completed"
    },
    "tags": []
   },
   "source": [
    "# 2) Reading in files with encoding problems\n",
    "\n",
    "Use the code cell below to read in this file at path `\"../input/fatal-police-shootings-in-the-us/PoliceKillingsUS.csv\"`.  \n",
    "\n",
    "Figure out what the correct encoding should be and read in the file to a DataFrame `police_killings`."
   ]
  },
  {
   "cell_type": "code",
   "execution_count": 6,
   "id": "b198ee2d",
   "metadata": {
    "execution": {
     "iopub.execute_input": "2022-04-27T06:37:39.702995Z",
     "iopub.status.busy": "2022-04-27T06:37:39.702601Z",
     "iopub.status.idle": "2022-04-27T06:37:39.727585Z",
     "shell.execute_reply": "2022-04-27T06:37:39.726607Z"
    },
    "papermill": {
     "duration": 0.048057,
     "end_time": "2022-04-27T06:37:39.730432",
     "exception": false,
     "start_time": "2022-04-27T06:37:39.682375",
     "status": "completed"
    },
    "tags": []
   },
   "outputs": [
    {
     "data": {
      "application/javascript": [
       "parent.postMessage({\"jupyterEvent\": \"custom.exercise_interaction\", \"data\": {\"outcomeType\": 1, \"valueTowardsCompletion\": 0.3333333333333333, \"interactionType\": 1, \"questionType\": 1, \"questionId\": \"2_ReadIn\", \"learnToolsVersion\": \"0.3.4\", \"failureMessage\": \"\", \"exceptionClass\": \"\", \"trace\": \"\"}}, \"*\")"
      ],
      "text/plain": [
       "<IPython.core.display.Javascript object>"
      ]
     },
     "metadata": {},
     "output_type": "display_data"
    },
    {
     "data": {
      "text/markdown": [
       "<span style=\"color:#33cc33\">Correct</span>"
      ],
      "text/plain": [
       "Correct"
      ]
     },
     "metadata": {},
     "output_type": "display_data"
    }
   ],
   "source": [
    "# TODO: Load in the DataFrame correctly.\n",
    "police_killings = pd.read_csv(\"../input/fatal-police-shootings-in-the-us/PoliceKillingsUS.csv\", encoding='Windows-1252')\n",
    "# Check your answer\n",
    "q2.check()"
   ]
  },
  {
   "cell_type": "markdown",
   "id": "bb18476d",
   "metadata": {
    "papermill": {
     "duration": 0.019671,
     "end_time": "2022-04-27T06:37:39.770583",
     "exception": false,
     "start_time": "2022-04-27T06:37:39.750912",
     "status": "completed"
    },
    "tags": []
   },
   "source": [
    "Feel free to use any additional code cells for supplemental work.  To get credit for finishing this question, you'll need to run `q2.check()` and get a result of **Correct**."
   ]
  },
  {
   "cell_type": "code",
   "execution_count": 7,
   "id": "b233de86",
   "metadata": {
    "execution": {
     "iopub.execute_input": "2022-04-27T06:37:39.812829Z",
     "iopub.status.busy": "2022-04-27T06:37:39.811762Z",
     "iopub.status.idle": "2022-04-27T06:37:39.816492Z",
     "shell.execute_reply": "2022-04-27T06:37:39.815586Z"
    },
    "papermill": {
     "duration": 0.027913,
     "end_time": "2022-04-27T06:37:39.818432",
     "exception": false,
     "start_time": "2022-04-27T06:37:39.790519",
     "status": "completed"
    },
    "tags": []
   },
   "outputs": [],
   "source": [
    "# (Optional) Use this code cell for any additional work."
   ]
  },
  {
   "cell_type": "code",
   "execution_count": 8,
   "id": "b3e7dfe2",
   "metadata": {
    "execution": {
     "iopub.execute_input": "2022-04-27T06:37:39.861902Z",
     "iopub.status.busy": "2022-04-27T06:37:39.861394Z",
     "iopub.status.idle": "2022-04-27T06:37:39.864410Z",
     "shell.execute_reply": "2022-04-27T06:37:39.863786Z"
    },
    "papermill": {
     "duration": 0.027059,
     "end_time": "2022-04-27T06:37:39.866331",
     "exception": false,
     "start_time": "2022-04-27T06:37:39.839272",
     "status": "completed"
    },
    "tags": []
   },
   "outputs": [],
   "source": [
    "# Lines below will give you a hint or solution code\n",
    "#q2.hint()\n",
    "#q2.solution()"
   ]
  },
  {
   "cell_type": "markdown",
   "id": "78cc781b",
   "metadata": {
    "papermill": {
     "duration": 0.020666,
     "end_time": "2022-04-27T06:37:39.909421",
     "exception": false,
     "start_time": "2022-04-27T06:37:39.888755",
     "status": "completed"
    },
    "tags": []
   },
   "source": [
    "# 3) Saving your files with UTF-8 encoding\n",
    "\n",
    "Save a version of the police killings dataset to CSV with UTF-8 encoding.  Your answer will be marked correct after saving this file.  \n",
    "\n",
    "Note: When using the `to_csv()` method, supply only the name of the file (e.g., `\"my_file.csv\"`).  This saves the file at the filepath `\"/kaggle/working/my_file.csv\"`."
   ]
  },
  {
   "cell_type": "code",
   "execution_count": 9,
   "id": "f214c914",
   "metadata": {
    "execution": {
     "iopub.execute_input": "2022-04-27T06:37:39.952028Z",
     "iopub.status.busy": "2022-04-27T06:37:39.951759Z",
     "iopub.status.idle": "2022-04-27T06:37:39.995271Z",
     "shell.execute_reply": "2022-04-27T06:37:39.994527Z"
    },
    "papermill": {
     "duration": 0.067922,
     "end_time": "2022-04-27T06:37:39.997556",
     "exception": false,
     "start_time": "2022-04-27T06:37:39.929634",
     "status": "completed"
    },
    "tags": []
   },
   "outputs": [
    {
     "data": {
      "application/javascript": [
       "parent.postMessage({\"jupyterEvent\": \"custom.exercise_interaction\", \"data\": {\"outcomeType\": 1, \"valueTowardsCompletion\": 0.3333333333333333, \"interactionType\": 1, \"questionType\": 2, \"questionId\": \"3_SaveCSV\", \"learnToolsVersion\": \"0.3.4\", \"failureMessage\": \"\", \"exceptionClass\": \"\", \"trace\": \"\"}}, \"*\")"
      ],
      "text/plain": [
       "<IPython.core.display.Javascript object>"
      ]
     },
     "metadata": {},
     "output_type": "display_data"
    },
    {
     "data": {
      "text/markdown": [
       "<span style=\"color:#33cc33\">Correct</span>"
      ],
      "text/plain": [
       "Correct"
      ]
     },
     "metadata": {},
     "output_type": "display_data"
    }
   ],
   "source": [
    "# TODO: Save the police killings dataset to CSV\n",
    "police_killings.to_csv(\"/kaggle/working/my_file.csv\")\n",
    "\n",
    "# Check your answer\n",
    "q3.check()"
   ]
  },
  {
   "cell_type": "code",
   "execution_count": 10,
   "id": "17a731a4",
   "metadata": {
    "execution": {
     "iopub.execute_input": "2022-04-27T06:37:40.041793Z",
     "iopub.status.busy": "2022-04-27T06:37:40.041505Z",
     "iopub.status.idle": "2022-04-27T06:37:40.044826Z",
     "shell.execute_reply": "2022-04-27T06:37:40.044203Z"
    },
    "papermill": {
     "duration": 0.028066,
     "end_time": "2022-04-27T06:37:40.046799",
     "exception": false,
     "start_time": "2022-04-27T06:37:40.018733",
     "status": "completed"
    },
    "tags": []
   },
   "outputs": [],
   "source": [
    "# Lines below will give you a hint or solution code\n",
    "#q3.hint()\n",
    "#q3.solution()"
   ]
  },
  {
   "cell_type": "markdown",
   "id": "b3fed13a",
   "metadata": {
    "papermill": {
     "duration": 0.021336,
     "end_time": "2022-04-27T06:37:40.089886",
     "exception": false,
     "start_time": "2022-04-27T06:37:40.068550",
     "status": "completed"
    },
    "tags": []
   },
   "source": [
    "# (Optional) More practice\n",
    "\n",
    "Check out [this dataset of files in different character encodings](https://www.kaggle.com/rtatman/character-encoding-examples). Can you read in all the files with their original encodings and them save them out as UTF-8 files?\n",
    "\n",
    "If you have a file that's in UTF-8 but has just a couple of weird-looking characters in it, you can try out the [ftfy module](https://ftfy.readthedocs.io/en/latest/#) and see if it helps. \n",
    "\n",
    "# Keep going\n",
    "\n",
    "In the final lesson, learn how to [**clean up inconsistent text entries**](https://www.kaggle.com/alexisbcook/inconsistent-data-entry) in your dataset."
   ]
  },
  {
   "cell_type": "markdown",
   "id": "ff529b29",
   "metadata": {
    "papermill": {
     "duration": 0.021113,
     "end_time": "2022-04-27T06:37:40.132600",
     "exception": false,
     "start_time": "2022-04-27T06:37:40.111487",
     "status": "completed"
    },
    "tags": []
   },
   "source": [
    "---\n",
    "\n",
    "\n",
    "\n",
    "\n",
    "*Have questions or comments? Visit the [course discussion forum](https://www.kaggle.com/learn/data-cleaning/discussion) to chat with other learners.*"
   ]
  }
 ],
 "metadata": {
  "kernelspec": {
   "display_name": "Python 3",
   "language": "python",
   "name": "python3"
  },
  "language_info": {
   "codemirror_mode": {
    "name": "ipython",
    "version": 3
   },
   "file_extension": ".py",
   "mimetype": "text/x-python",
   "name": "python",
   "nbconvert_exporter": "python",
   "pygments_lexer": "ipython3",
   "version": "3.7.12"
  },
  "papermill": {
   "default_parameters": {},
   "duration": 12.055666,
   "end_time": "2022-04-27T06:37:41.076615",
   "environment_variables": {},
   "exception": null,
   "input_path": "__notebook__.ipynb",
   "output_path": "__notebook__.ipynb",
   "parameters": {},
   "start_time": "2022-04-27T06:37:29.020949",
   "version": "2.3.4"
  }
 },
 "nbformat": 4,
 "nbformat_minor": 5
}
